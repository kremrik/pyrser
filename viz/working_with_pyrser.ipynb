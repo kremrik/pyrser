{
 "cells": [
  {
   "cell_type": "code",
   "execution_count": 2,
   "metadata": {},
   "outputs": [],
   "source": [
    "from pathlib import Path\n",
    "import sys\n",
    "pwd = str(Path(\"..\").absolute())\n",
    "sys.path.insert(0, pwd)\n",
    "\n",
    "from Pyrser import pyrser\n",
    "from Node import Node, FileNode, FncNode\n",
    "from Utils.PyrserHelpers import xfs, dfs_generator\n",
    "import graphviz; from graphviz import Digraph"
   ]
  },
  {
   "cell_type": "code",
   "execution_count": 6,
   "metadata": {},
   "outputs": [],
   "source": [
    "file = \"/home/kemri/Projects/pyrser/test_files/example.py\"\n",
    "output = pyrser(file)"
   ]
  },
  {
   "cell_type": "code",
   "execution_count": 7,
   "metadata": {},
   "outputs": [
    {
     "data": {
      "text/plain": [
       "dict_keys(['Person', 'test_it_out'])"
      ]
     },
     "execution_count": 7,
     "metadata": {},
     "output_type": "execute_result"
    }
   ],
   "source": [
    "# delete crap from output we don't want in graph\n",
    "output.children.keys()"
   ]
  },
  {
   "cell_type": "raw",
   "metadata": {},
   "source": [
    "del output.children['.git']\n",
    "del output.children['.ipynb_checkpoints']\n",
    "del output.children['.pytest_cache']\n",
    "del output.children['.vscode']\n",
    "del output.children['tests']\n",
    "del output.children['test_files']\n",
    "del output.children['images']\n",
    "del output.children['viz']"
   ]
  },
  {
   "cell_type": "code",
   "execution_count": 8,
   "metadata": {},
   "outputs": [
    {
     "data": {
      "text/plain": [
       "FileNode(name='example.py', scope=[1, 16], location=/home/kemri/Projects/pyrser/test_files/example.py)\n",
       " |-- ClsNode(name='Person', scope=[1, 11])\n",
       " |    |-- FncNode(name='is_yoda', scope=[7, 11], calls=[])\n",
       " |-- FncNode(name='test_it_out', scope=[14, 16], calls=['is_yoda'])"
      ]
     },
     "execution_count": 8,
     "metadata": {},
     "output_type": "execute_result"
    }
   ],
   "source": [
    "output"
   ]
  },
  {
   "cell_type": "markdown",
   "metadata": {},
   "source": [
    "#### The rules\n",
    "- if a node has children, create a subgraph with label=node_name\n",
    "- for every node with a parent, add that node to the parent's subgraph\n",
    "- if a node calls another node, create a directional edge from one to the other\n",
    "\n",
    "For test2.py, traversing the Node tree, it would mean:\n",
    "1. Hit FileNode: no parent && has children -> create subgraph\n",
    "1. Hit FileNode.FncNode(test): has parent && no children -> add node to subgraph\n",
    "1. Hit FileNode.FncNode(test2): has parent && has children -> create subgraph\n",
    "1. Hit FileNode.FncNode(test2).FncNode(test2_1): has parent && no children -> add node to subgraph\n",
    "1. no more nodes, return"
   ]
  },
  {
   "cell_type": "code",
   "execution_count": 9,
   "metadata": {},
   "outputs": [],
   "source": [
    "def create_node(node: Node, graph: graphviz.dot.Digraph = None) -> graphviz.dot.Digraph:\n",
    "    if graph is None:\n",
    "        graph = Digraph(comment=node.name)\n",
    "        \n",
    "    if node.children:\n",
    "        with graph.subgraph(name=\"cluster_\"+node.name) as sg:\n",
    "            for child in node.children:\n",
    "                child_node = node.children[child]\n",
    "                create_node(child_node, sg)\n",
    "            sg.attr(label=node.name)\n",
    "    else:\n",
    "        graph.node(node.name, shape=\"box\")\n",
    "    \n",
    "    return graph"
   ]
  },
  {
   "cell_type": "code",
   "execution_count": 10,
   "metadata": {},
   "outputs": [],
   "source": [
    "def add_edges(node: Node, graph: graphviz.dot.Digraph) -> None:\n",
    "    for n in dfs_generator(node):\n",
    "        if type(n) != FncNode:\n",
    "            continue\n",
    "        \n",
    "        if calls := n.calls:\n",
    "            for call in calls:\n",
    "                frm = n.name\n",
    "                to = call.name\n",
    "                graph.edge(frm, to)"
   ]
  },
  {
   "cell_type": "code",
   "execution_count": 11,
   "metadata": {},
   "outputs": [],
   "source": [
    "test = create_node(output)"
   ]
  },
  {
   "cell_type": "code",
   "execution_count": 12,
   "metadata": {},
   "outputs": [
    {
     "data": {
      "text/plain": [
       "graphviz.dot.Digraph"
      ]
     },
     "execution_count": 12,
     "metadata": {},
     "output_type": "execute_result"
    }
   ],
   "source": [
    "type(test)"
   ]
  },
  {
   "cell_type": "code",
   "execution_count": 13,
   "metadata": {},
   "outputs": [],
   "source": [
    "add_edges(output, test)"
   ]
  },
  {
   "cell_type": "code",
   "execution_count": 14,
   "metadata": {},
   "outputs": [
    {
     "data": {
      "image/svg+xml": [
       "<?xml version=\"1.0\" encoding=\"UTF-8\" standalone=\"no\"?>\n",
       "<!DOCTYPE svg PUBLIC \"-//W3C//DTD SVG 1.1//EN\"\n",
       " \"http://www.w3.org/Graphics/SVG/1.1/DTD/svg11.dtd\">\n",
       "<!-- Generated by graphviz version 2.42.3 (20191010.1750)\n",
       " -->\n",
       "<!-- Title: %3 Pages: 1 -->\n",
       "<svg width=\"132pt\" height=\"182pt\"\n",
       " viewBox=\"0.00 0.00 132.00 182.00\" xmlns=\"http://www.w3.org/2000/svg\" xmlns:xlink=\"http://www.w3.org/1999/xlink\">\n",
       "<g id=\"graph0\" class=\"graph\" transform=\"scale(1 1) rotate(0) translate(4 178)\">\n",
       "<title>%3</title>\n",
       "<polygon fill=\"white\" stroke=\"transparent\" points=\"-4,4 -4,-178 128,-178 128,4 -4,4\"/>\n",
       "<g id=\"clust1\" class=\"cluster\">\n",
       "<title>cluster_example.py</title>\n",
       "<polygon fill=\"none\" stroke=\"black\" points=\"8,-8 8,-166 116,-166 116,-8 8,-8\"/>\n",
       "<text text-anchor=\"middle\" x=\"62\" y=\"-150.8\" font-family=\"Times,serif\" font-size=\"14.00\">example.py</text>\n",
       "</g>\n",
       "<g id=\"clust2\" class=\"cluster\">\n",
       "<title>cluster_Person</title>\n",
       "<polygon fill=\"none\" stroke=\"black\" points=\"19,-16 19,-91 105,-91 105,-16 19,-16\"/>\n",
       "<text text-anchor=\"middle\" x=\"62\" y=\"-75.8\" font-family=\"Times,serif\" font-size=\"14.00\">Person</text>\n",
       "</g>\n",
       "<!-- is_yoda -->\n",
       "<g id=\"node1\" class=\"node\">\n",
       "<title>is_yoda</title>\n",
       "<polygon fill=\"none\" stroke=\"black\" points=\"97,-60 27,-60 27,-24 97,-24 97,-60\"/>\n",
       "<text text-anchor=\"middle\" x=\"62\" y=\"-38.3\" font-family=\"Times,serif\" font-size=\"14.00\">is_yoda</text>\n",
       "</g>\n",
       "<!-- test_it_out -->\n",
       "<g id=\"node2\" class=\"node\">\n",
       "<title>test_it_out</title>\n",
       "<polygon fill=\"none\" stroke=\"black\" points=\"108.5,-135 15.5,-135 15.5,-99 108.5,-99 108.5,-135\"/>\n",
       "<text text-anchor=\"middle\" x=\"62\" y=\"-113.3\" font-family=\"Times,serif\" font-size=\"14.00\">test_it_out</text>\n",
       "</g>\n",
       "<!-- test_it_out&#45;&gt;is_yoda -->\n",
       "<g id=\"edge1\" class=\"edge\">\n",
       "<title>test_it_out&#45;&gt;is_yoda</title>\n",
       "<path fill=\"none\" stroke=\"black\" d=\"M62,-98.7C62,-90.25 62,-79.87 62,-70.37\"/>\n",
       "<polygon fill=\"black\" stroke=\"black\" points=\"65.5,-70.18 62,-60.18 58.5,-70.18 65.5,-70.18\"/>\n",
       "</g>\n",
       "</g>\n",
       "</svg>\n"
      ],
      "text/plain": [
       "<graphviz.dot.Digraph at 0x7ff6aa105a30>"
      ]
     },
     "execution_count": 14,
     "metadata": {},
     "output_type": "execute_result"
    }
   ],
   "source": [
    "test"
   ]
  },
  {
   "cell_type": "code",
   "execution_count": 15,
   "metadata": {},
   "outputs": [
    {
     "data": {
      "text/plain": [
       "'example.png'"
      ]
     },
     "execution_count": 15,
     "metadata": {},
     "output_type": "execute_result"
    }
   ],
   "source": [
    "test.render(\"example\", format=\"png\")"
   ]
  },
  {
   "cell_type": "code",
   "execution_count": null,
   "metadata": {},
   "outputs": [],
   "source": []
  }
 ],
 "metadata": {
  "kernelspec": {
   "display_name": "Python 3",
   "language": "python",
   "name": "python3"
  },
  "language_info": {
   "codemirror_mode": {
    "name": "ipython",
    "version": 3
   },
   "file_extension": ".py",
   "mimetype": "text/x-python",
   "name": "python",
   "nbconvert_exporter": "python",
   "pygments_lexer": "ipython3",
   "version": "3.8.0"
  }
 },
 "nbformat": 4,
 "nbformat_minor": 4
}
